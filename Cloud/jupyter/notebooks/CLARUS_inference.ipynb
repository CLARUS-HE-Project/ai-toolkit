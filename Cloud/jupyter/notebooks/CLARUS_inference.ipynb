{
 "cells": [
  {
   "cell_type": "code",
   "execution_count": 1,
   "id": "39d0ce78",
   "metadata": {
    "tags": []
   },
   "outputs": [
    {
     "data": {
      "text/plain": [
       "'Internal Server Error'"
      ]
     },
     "execution_count": 1,
     "metadata": {},
     "output_type": "execute_result"
    }
   ],
   "source": [
    "import requests\n",
    "\n",
    "data = {\n",
    "    \"datos\" : \"{'fixed acidity':6.2,'volatile acidity':0.66,'citric acid':0.48,'residual sugar':1.2,'chlorides':0.029,'free sulfur dioxide': 29,'total sulfur dioxide': 75, 'density': 0.98, 'pH': 3.33, 'sulphates': 0.39, 'alcohol': 12.8}\",\n",
    "\n",
    "    \"model\" : 'runs:/08b80043dfca4590ad611788c5296589/model'\n",
    "}\n",
    "\n",
    "resp = requests.get(url = 'http://local_api:380/predict',params = data)\n",
    "resp.text"
   ]
  },
  {
   "cell_type": "code",
   "execution_count": 7,
   "id": "7d484467",
   "metadata": {},
   "outputs": [],
   "source": [
    "resp = requests.get(url = 'http://edge_inference:381/predict',params = data)"
   ]
  },
  {
   "cell_type": "code",
   "execution_count": null,
   "id": "a0e69cb6",
   "metadata": {},
   "outputs": [],
   "source": []
  },
  {
   "cell_type": "code",
   "execution_count": null,
   "id": "508c3587",
   "metadata": {},
   "outputs": [],
   "source": []
  }
 ],
 "metadata": {
  "kernelspec": {
   "display_name": "Python 3 (ipykernel)",
   "language": "python",
   "name": "python3"
  },
  "language_info": {
   "codemirror_mode": {
    "name": "ipython",
    "version": 3
   },
   "file_extension": ".py",
   "mimetype": "text/x-python",
   "name": "python",
   "nbconvert_exporter": "python",
   "pygments_lexer": "ipython3",
   "version": "3.10.11"
  }
 },
 "nbformat": 4,
 "nbformat_minor": 5
}
